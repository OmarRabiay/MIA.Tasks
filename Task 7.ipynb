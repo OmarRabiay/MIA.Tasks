{
 "cells": [
  {
   "cell_type": "markdown",
   "metadata": {},
   "source": [
    "ls\n",
    "means List Files\n",
    "it views the files in the current directory  "
   ]
  },
  {
   "cell_type": "markdown",
   "metadata": {},
   "source": [
    "cd \n",
    "means Change Directory \n",
    "it changes the current directory to the entered directory"
   ]
  },
  {
   "cell_type": "markdown",
   "metadata": {},
   "source": [
    "pwd \n",
    "means Print Working Directory\n",
    "it prints your current directory"
   ]
  },
  {
   "cell_type": "markdown",
   "metadata": {},
   "source": [
    "mkdir\n",
    "means Make Directory\n",
    "it creates a folder in your current directory and naming it the entered name"
   ]
  },
  {
   "cell_type": "markdown",
   "metadata": {},
   "source": [
    "rm\n",
    "means Remove\n",
    "it deletes the named file in current directory"
   ]
  },
  {
   "cell_type": "markdown",
   "metadata": {},
   "source": [
    "cp \n",
    "means Copy\n",
    "it copy the named file to the entered directory"
   ]
  },
  {
   "cell_type": "markdown",
   "metadata": {},
   "source": [
    "mv \n",
    "means Move\n",
    "it moves the named file to the entered directory"
   ]
  },
  {
   "cell_type": "markdown",
   "metadata": {},
   "source": [
    "cat\n",
    "means Concatenate\n",
    "it reads one or multiple files and prints their content to the terminal"
   ]
  },
  {
   "cell_type": "markdown",
   "metadata": {},
   "source": [
    "nano\n",
    "is a built-in text editor in linux\n",
    "it allows you to edit the named file"
   ]
  }
 ],
 "metadata": {
  "language_info": {
   "name": "python"
  }
 },
 "nbformat": 4,
 "nbformat_minor": 2
}
